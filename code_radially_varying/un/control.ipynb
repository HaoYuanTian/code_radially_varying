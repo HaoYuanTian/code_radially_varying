{
 "cells": [
  {
   "cell_type": "code",
   "execution_count": 1,
   "metadata": {},
   "outputs": [],
   "source": [
    "import numpy as np\n",
    "import time as t\n",
    "import os\n",
    "import matplotlib.pyplot as plt\n",
    "from scipy.sparse import csr_matrix\n",
    "from scipy.sparse.linalg import spsolve\n",
    "from matplotlib.ticker import FormatStrFormatter"
   ]
  },
  {
   "cell_type": "code",
   "execution_count": null,
   "metadata": {},
   "outputs": [],
   "source": [
    "# initial\n",
    "R_max = 1\n",
    "eps = 1 # diffusion coefficient\n",
    "n = 9\n",
    "# for time\n",
    "final_time = 80\n",
    "t_step = 0.005\n",
    "Max_step = int(final_time/t_step) # calculate the number of time steps\n",
    "time = np.arange(0,final_time+t_step,t_step) \n",
    "time = time[1:]\n",
    "ratio = 4\n",
    "# time for draw\n",
    "time1 = time[::ratio] # 切片（slicing）语法，提取time数组中的元素，提出每隔ratio个元素的子集\n",
    "Rstep1 = time[1] - time[0]\n",
    "Max_step1 = len(time1)\n",
    "# for sptial\n",
    "N = 91\n",
    "delta_r = (2*R_max)/(2*(N-1)+1)\n",
    "r = np.arange(1, N+1, dtype=np.float64) # 生成左闭右开的范围，步长默认为1\n",
    "r = (r- 1/2)*delta_r"
   ]
  }
 ],
 "metadata": {
  "kernelspec": {
   "display_name": "deeponet",
   "language": "python",
   "name": "python3"
  },
  "language_info": {
   "codemirror_mode": {
    "name": "ipython",
    "version": 3
   },
   "file_extension": ".py",
   "mimetype": "text/x-python",
   "name": "python",
   "nbconvert_exporter": "python",
   "pygments_lexer": "ipython3",
   "version": "3.12.4"
  }
 },
 "nbformat": 4,
 "nbformat_minor": 2
}
