{
 "cells": [
  {
   "cell_type": "code",
   "execution_count": 16,
   "metadata": {},
   "outputs": [],
   "source": [
    "import numpy as np\n",
    "n = 9\n",
    "a = np.ones((1,n))*2\n",
    "a[0, 1:n:2] = 3\n",
    "b = np.ones((1,n))*2\n",
    "b[0, 1:n-1:2] = 3\n",
    "\n",
    "\n",
    "# 所以，在 Python 切片时，结束位置（stop参数）可以超过索引，Python 会自动截断到最大索引。\n",
    "# 但是，开始位置（start参数）不能超过索引，否则会返回空数组。\n",
    "# 在这里因为n=9，且从1开始隔偶数位所以a[0, 1:n:2] = 3 等价于 a[0, 1:9:2] = 3，所以a[0, 1:9:2] = 3 等价于 a[0, 1:10:2] = 3"
   ]
  }
 ],
 "metadata": {
  "kernelspec": {
   "display_name": "deeponet",
   "language": "python",
   "name": "python3"
  },
  "language_info": {
   "codemirror_mode": {
    "name": "ipython",
    "version": 3
   },
   "file_extension": ".py",
   "mimetype": "text/x-python",
   "name": "python",
   "nbconvert_exporter": "python",
   "pygments_lexer": "ipython3",
   "version": "3.12.4"
  }
 },
 "nbformat": 4,
 "nbformat_minor": 2
}
